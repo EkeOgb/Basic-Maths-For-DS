{
  "nbformat": 4,
  "nbformat_minor": 0,
  "metadata": {
    "colab": {
      "provenance": []
    },
    "kernelspec": {
      "name": "python3",
      "display_name": "Python 3"
    },
    "language_info": {
      "name": "python"
    }
  },
  "cells": [
    {
      "cell_type": "code",
      "execution_count": null,
      "metadata": {
        "id": "4j2fFHdVKCex"
      },
      "outputs": [],
      "source": [
        "import numpy as np\n",
        "import statistics as st"
      ]
    },
    {
      "cell_type": "code",
      "source": [
        "data = [12, 15, 21, 21, 18, 19, 25, 30, 30, 28, 29, 40, 12, 18, 25]"
      ],
      "metadata": {
        "id": "B-VIEBZkNlqF"
      },
      "execution_count": null,
      "outputs": []
    },
    {
      "cell_type": "code",
      "source": [
        "# Mean Result\n",
        "mean = np.mean(data)\n",
        "print(mean)\n"
      ],
      "metadata": {
        "colab": {
          "base_uri": "https://localhost:8080/"
        },
        "id": "GCrWkMAZQUkf",
        "outputId": "5c3e5758-0e7c-4efd-c83e-11065d6a163f"
      },
      "execution_count": null,
      "outputs": [
        {
          "output_type": "stream",
          "name": "stdout",
          "text": [
            "22.866666666666667\n"
          ]
        }
      ]
    },
    {
      "cell_type": "code",
      "source": [
        "# Median Result\n",
        "median = np.median(data)\n",
        "print(median)\n"
      ],
      "metadata": {
        "colab": {
          "base_uri": "https://localhost:8080/"
        },
        "id": "tI6R-TEvQdz5",
        "outputId": "5dcde742-a9f0-41df-edde-43d491743c2b"
      },
      "execution_count": null,
      "outputs": [
        {
          "output_type": "stream",
          "name": "stdout",
          "text": [
            "21.0\n"
          ]
        }
      ]
    },
    {
      "cell_type": "code",
      "source": [
        "# Mode Result\n",
        "mode = st.mode(data)\n",
        "print(mode)"
      ],
      "metadata": {
        "colab": {
          "base_uri": "https://localhost:8080/"
        },
        "id": "cZCzVmYIT_kg",
        "outputId": "55025aff-e570-4611-8cb6-168d5f076821"
      },
      "execution_count": null,
      "outputs": [
        {
          "output_type": "stream",
          "name": "stdout",
          "text": [
            "12\n"
          ]
        }
      ]
    },
    {
      "cell_type": "code",
      "source": [
        "# Variance\n",
        "variance = np.var(data)\n",
        "print(variance)"
      ],
      "metadata": {
        "colab": {
          "base_uri": "https://localhost:8080/"
        },
        "id": "4_9e8zz_U2Sx",
        "outputId": "5529cc51-da26-4713-b325-b4b188d4e719"
      },
      "execution_count": null,
      "outputs": [
        {
          "output_type": "stream",
          "name": "stdout",
          "text": [
            "55.71555555555556\n"
          ]
        }
      ]
    },
    {
      "cell_type": "code",
      "source": [
        "#Standard Result\n",
        "standard_result = np.std(data)\n",
        "print(standardresult)"
      ],
      "metadata": {
        "colab": {
          "base_uri": "https://localhost:8080/"
        },
        "id": "dGdLZUDjVUyb",
        "outputId": "0ed520d8-9b82-4273-b86c-139261728ba2"
      },
      "execution_count": null,
      "outputs": [
        {
          "output_type": "stream",
          "name": "stdout",
          "text": [
            "7.464285334548483\n"
          ]
        }
      ]
    },
    {
      "cell_type": "code",
      "source": [
        "Height = [45, 67, 23, 67, 89, 34, 56, 67, 89, 12, 90, 45, 67, 34, 56, 78, 23, 45, 67, 89, 12]\n"
      ],
      "metadata": {
        "id": "wamHRG_UV_pa"
      },
      "execution_count": null,
      "outputs": []
    },
    {
      "cell_type": "code",
      "source": [
        "# Variance\n",
        "variance = np.var(Height)\n",
        "print(variance)"
      ],
      "metadata": {
        "colab": {
          "base_uri": "https://localhost:8080/"
        },
        "id": "Is5g4DsBX-TT",
        "outputId": "ff02d70d-f249-4b27-8e19-4dc557a2ace1"
      },
      "execution_count": null,
      "outputs": [
        {
          "output_type": "stream",
          "name": "stdout",
          "text": [
            "55.71555555555556\n"
          ]
        }
      ]
    },
    {
      "cell_type": "code",
      "source": [
        "#Standard Deviation\n",
        "standard_result = np.std(Height)\n",
        "print(standardresult)"
      ],
      "metadata": {
        "colab": {
          "base_uri": "https://localhost:8080/"
        },
        "id": "9-lafjoqYOhB",
        "outputId": "885ca9b3-4d1e-49d2-9a36-dc76462cf104"
      },
      "execution_count": null,
      "outputs": [
        {
          "output_type": "stream",
          "name": "stdout",
          "text": [
            "7.464285334548483\n"
          ]
        }
      ]
    },
    {
      "cell_type": "code",
      "source": [
        "#10th percentile.\n",
        "percentile_10th = np.percentile(Height, 10)\n",
        "print(percentile_10th)\n"
      ],
      "metadata": {
        "colab": {
          "base_uri": "https://localhost:8080/"
        },
        "id": "Wgd-1wYNYZOC",
        "outputId": "a5a24d7b-36ab-4841-fbf9-7ed8f198d450"
      },
      "execution_count": null,
      "outputs": [
        {
          "output_type": "stream",
          "name": "stdout",
          "text": [
            "23.0\n"
          ]
        }
      ]
    },
    {
      "cell_type": "code",
      "source": [
        "#25th percentile.\n",
        "percentile_25th = np.percentile(Height, 25)\n",
        "print(percentile_25th)"
      ],
      "metadata": {
        "colab": {
          "base_uri": "https://localhost:8080/"
        },
        "id": "wCg6sKrvY7lF",
        "outputId": "9aeb603a-d1fe-4481-fe02-7fceed4d7f55"
      },
      "execution_count": null,
      "outputs": [
        {
          "output_type": "stream",
          "name": "stdout",
          "text": [
            "34.0\n"
          ]
        }
      ]
    },
    {
      "cell_type": "code",
      "source": [
        "#50th percentile.\n",
        "percentile_50th = np.percentile(Height, 50)\n",
        "print(percentile_50th)"
      ],
      "metadata": {
        "colab": {
          "base_uri": "https://localhost:8080/"
        },
        "id": "Gts3KLuWZGcF",
        "outputId": "fa741c97-824d-42de-e962-55539dafbef7"
      },
      "execution_count": null,
      "outputs": [
        {
          "output_type": "stream",
          "name": "stdout",
          "text": [
            "56.0\n"
          ]
        }
      ]
    },
    {
      "cell_type": "code",
      "source": [
        "#75th percentile.\n",
        "percentile_75th = np.percentile(Height, 75)\n",
        "print(percentile_75th)"
      ],
      "metadata": {
        "colab": {
          "base_uri": "https://localhost:8080/"
        },
        "id": "NRZnhnQGZxJR",
        "outputId": "6566a4f9-d9e1-47b4-e3f8-081f7b4969ee"
      },
      "execution_count": null,
      "outputs": [
        {
          "output_type": "stream",
          "name": "stdout",
          "text": [
            "67.0\n"
          ]
        }
      ]
    },
    {
      "cell_type": "code",
      "source": [
        "# ADDITION, SUBSTRACTION AND MULTIPLICATION OF MATRIX"
      ],
      "metadata": {
        "id": "RskoNnAtdnkq"
      },
      "execution_count": null,
      "outputs": []
    },
    {
      "cell_type": "code",
      "source": [
        "matrix_A = np.array([[4, 1, 6], [1, 9, 3], [7, 1, 8], [4, 5, 9]])\n",
        "\n",
        "matrix_B = np.array([[5, 3, 7], [6, 5, 8], [2, 1, 9], [6, 2, 4]])\n",
        "\n",
        "matrix_C = np.array([[4, 9, 6], [9, 3, 5], [4, 6, 7], [4, 8, 5]])\n",
        "\n",
        "print(matrix_A + matrix_B + matrix_C)\n"
      ],
      "metadata": {
        "id": "Ux5D1ZgWaChL",
        "colab": {
          "base_uri": "https://localhost:8080/"
        },
        "outputId": "f58766a8-4086-4b19-fa90-b66b1729c29e"
      },
      "execution_count": null,
      "outputs": [
        {
          "output_type": "stream",
          "name": "stdout",
          "text": [
            "[[13 13 19]\n",
            " [16 17 16]\n",
            " [13  8 24]\n",
            " [14 15 18]]\n"
          ]
        }
      ]
    },
    {
      "cell_type": "code",
      "source": [
        "print(matrix_A - matrix_B - matrix_C)\n"
      ],
      "metadata": {
        "colab": {
          "base_uri": "https://localhost:8080/"
        },
        "id": "10URCtEiY3Er",
        "outputId": "cbada9ba-ca78-4ddc-ce0d-d57cda7565b3"
      },
      "execution_count": null,
      "outputs": [
        {
          "output_type": "stream",
          "name": "stdout",
          "text": [
            "[[ -5 -11  -7]\n",
            " [-14   1 -10]\n",
            " [  1  -6  -8]\n",
            " [ -6  -5   0]]\n"
          ]
        }
      ]
    },
    {
      "cell_type": "code",
      "source": [
        "print(matrix_A * matrix_B * matrix_C)\n"
      ],
      "metadata": {
        "colab": {
          "base_uri": "https://localhost:8080/"
        },
        "id": "19VQHCKDY7Xo",
        "outputId": "3dca76aa-ae56-4a5e-c2dc-ce51d9c9b802"
      },
      "execution_count": null,
      "outputs": [
        {
          "output_type": "stream",
          "name": "stdout",
          "text": [
            "[[ 80  27 252]\n",
            " [ 54 135 120]\n",
            " [ 56   6 504]\n",
            " [ 96  80 180]]\n"
          ]
        }
      ]
    },
    {
      "cell_type": "code",
      "source": [
        "9+(matrix_A)"
      ],
      "metadata": {
        "colab": {
          "base_uri": "https://localhost:8080/"
        },
        "id": "8VQqajP_Zsbd",
        "outputId": "971f479e-159d-4343-c24b-3f85efed2afc"
      },
      "execution_count": null,
      "outputs": [
        {
          "output_type": "execute_result",
          "data": {
            "text/plain": [
              "array([[13, 10, 15],\n",
              "       [10, 18, 12],\n",
              "       [16, 10, 17],\n",
              "       [13, 14, 18]])"
            ]
          },
          "metadata": {},
          "execution_count": 9
        }
      ]
    },
    {
      "cell_type": "code",
      "source": [
        "print(matrix_A)"
      ],
      "metadata": {
        "colab": {
          "base_uri": "https://localhost:8080/"
        },
        "id": "G39XzFOWaq-i",
        "outputId": "917794a2-e469-4a7f-d480-63f44721f27d"
      },
      "execution_count": null,
      "outputs": [
        {
          "output_type": "stream",
          "name": "stdout",
          "text": [
            "[[4 1 6]\n",
            " [1 9 3]\n",
            " [7 1 8]\n",
            " [4 5 9]]\n"
          ]
        }
      ]
    },
    {
      "cell_type": "code",
      "source": [
        "9-(matrix_A)"
      ],
      "metadata": {
        "colab": {
          "base_uri": "https://localhost:8080/"
        },
        "id": "l5wJGn2-a2bn",
        "outputId": "9f18c46b-63fe-4c84-ae2a-3f0716278b82"
      },
      "execution_count": null,
      "outputs": [
        {
          "output_type": "execute_result",
          "data": {
            "text/plain": [
              "array([[5, 8, 3],\n",
              "       [8, 0, 6],\n",
              "       [2, 8, 1],\n",
              "       [5, 4, 0]])"
            ]
          },
          "metadata": {},
          "execution_count": 11
        }
      ]
    },
    {
      "cell_type": "code",
      "source": [
        "9*(matrix_A)"
      ],
      "metadata": {
        "colab": {
          "base_uri": "https://localhost:8080/"
        },
        "id": "ghITEO9pbG_H",
        "outputId": "d8078130-7e82-418c-a54b-3062b1b38afc"
      },
      "execution_count": null,
      "outputs": [
        {
          "output_type": "execute_result",
          "data": {
            "text/plain": [
              "array([[36,  9, 54],\n",
              "       [ 9, 81, 27],\n",
              "       [63,  9, 72],\n",
              "       [36, 45, 81]])"
            ]
          },
          "metadata": {},
          "execution_count": 26
        }
      ]
    },
    {
      "cell_type": "code",
      "source": [
        "10+(matrix_A + matrix_B + matrix_C)"
      ],
      "metadata": {
        "colab": {
          "base_uri": "https://localhost:8080/"
        },
        "id": "bcRr1XhpbUKb",
        "outputId": "7afe18d5-bc98-4a02-c895-cdb851dedb4f"
      },
      "execution_count": null,
      "outputs": [
        {
          "output_type": "execute_result",
          "data": {
            "text/plain": [
              "array([[23, 23, 29],\n",
              "       [26, 27, 26],\n",
              "       [23, 18, 34],\n",
              "       [24, 25, 28]])"
            ]
          },
          "metadata": {},
          "execution_count": 13
        }
      ]
    },
    {
      "cell_type": "code",
      "source": [
        "# TRANSPOSE OF MATRIX (Flipping)"
      ],
      "metadata": {
        "id": "yEE2k130bqeT"
      },
      "execution_count": null,
      "outputs": []
    },
    {
      "cell_type": "code",
      "source": [
        "print(matrix_A.T)"
      ],
      "metadata": {
        "colab": {
          "base_uri": "https://localhost:8080/"
        },
        "id": "4vNFlOZldyE3",
        "outputId": "7ef44ac2-1545-4ce4-9abd-1bc342de6897"
      },
      "execution_count": null,
      "outputs": [
        {
          "output_type": "stream",
          "name": "stdout",
          "text": [
            "[[4 1 7 4]\n",
            " [1 9 1 5]\n",
            " [6 3 8 9]]\n"
          ]
        }
      ]
    },
    {
      "cell_type": "code",
      "source": [
        "trans = np.transpose(matrix_A)\n",
        "print(trans)"
      ],
      "metadata": {
        "colab": {
          "base_uri": "https://localhost:8080/"
        },
        "id": "rXCCyYwDeJMZ",
        "outputId": "65d141cc-1217-4c29-c597-6b5a2518ba45"
      },
      "execution_count": null,
      "outputs": [
        {
          "output_type": "stream",
          "name": "stdout",
          "text": [
            "[[4 1 7 4]\n",
            " [1 9 1 5]\n",
            " [6 3 8 9]]\n"
          ]
        }
      ]
    },
    {
      "cell_type": "code",
      "source": [
        "#flat_matrixA = matrix_A.flatten()\n",
        "\n",
        "#print(flat_matrixA)\n",
        "\n",
        "#mode = st.mode(flat_matrixA)\n",
        "#print(mode)"
      ],
      "metadata": {
        "id": "v65VGdYpq_YY"
      },
      "execution_count": null,
      "outputs": []
    },
    {
      "cell_type": "code",
      "source": [
        "# EXERCISE"
      ],
      "metadata": {
        "id": "MYBD9u-LsOxm"
      },
      "execution_count": null,
      "outputs": []
    },
    {
      "cell_type": "code",
      "source": [
        "# QUestion 1\n",
        "\n",
        "matrix_F = np.array([[4, 1, 6], [1, 9, 3]])\n",
        "\n",
        "print(matrix_F)"
      ],
      "metadata": {
        "colab": {
          "base_uri": "https://localhost:8080/"
        },
        "id": "WY4LwtIwsSJw",
        "outputId": "febb143d-4e09-4ed7-af5d-294f2e9b873c"
      },
      "execution_count": null,
      "outputs": [
        {
          "output_type": "stream",
          "name": "stdout",
          "text": [
            "[[4 1 6]\n",
            " [1 9 3]]\n"
          ]
        }
      ]
    },
    {
      "cell_type": "code",
      "source": [
        "# Question 2\n",
        "\n",
        "matrix_G = np.array([[2, 8, 5], [2, 6, 7]])\n",
        "\n",
        "print(matrix_G)"
      ],
      "metadata": {
        "colab": {
          "base_uri": "https://localhost:8080/"
        },
        "id": "vuAjioFQsncJ",
        "outputId": "32798d5c-9a80-4b41-ba27-01ff80bce9df"
      },
      "execution_count": null,
      "outputs": [
        {
          "output_type": "stream",
          "name": "stdout",
          "text": [
            "[[2 8 5]\n",
            " [2 6 7]]\n"
          ]
        }
      ]
    },
    {
      "cell_type": "code",
      "source": [
        "# Question 3\n",
        "\n",
        "print(matrix_F + matrix_G)\n"
      ],
      "metadata": {
        "colab": {
          "base_uri": "https://localhost:8080/"
        },
        "id": "7vtmgOWttHPB",
        "outputId": "b39a7862-b62a-4aca-a250-360f25d0f393"
      },
      "execution_count": null,
      "outputs": [
        {
          "output_type": "stream",
          "name": "stdout",
          "text": [
            "[[ 6  9 11]\n",
            " [ 3 15 10]]\n"
          ]
        }
      ]
    },
    {
      "cell_type": "code",
      "source": [
        "# Question 4\n",
        "\n",
        "print(matrix_F - matrix_G)"
      ],
      "metadata": {
        "colab": {
          "base_uri": "https://localhost:8080/"
        },
        "id": "XaalMnXEtUYW",
        "outputId": "a63bc900-37d2-44cf-d18c-f381edcbe07d"
      },
      "execution_count": null,
      "outputs": [
        {
          "output_type": "stream",
          "name": "stdout",
          "text": [
            "[[ 2 -7  1]\n",
            " [-1  3 -4]]\n"
          ]
        }
      ]
    },
    {
      "cell_type": "code",
      "source": [
        "# Question 5\n",
        "\n",
        "print(matrix_F.T)"
      ],
      "metadata": {
        "colab": {
          "base_uri": "https://localhost:8080/"
        },
        "id": "pvNv-Pi4tbyB",
        "outputId": "f3a6b127-cd10-4016-dd7e-cb7cabb96585"
      },
      "execution_count": null,
      "outputs": [
        {
          "output_type": "stream",
          "name": "stdout",
          "text": [
            "[[4 1]\n",
            " [1 9]\n",
            " [6 3]]\n"
          ]
        }
      ]
    },
    {
      "cell_type": "code",
      "source": [
        "# Question 6\n",
        "\n",
        "5*(matrix_F)"
      ],
      "metadata": {
        "colab": {
          "base_uri": "https://localhost:8080/"
        },
        "id": "F7f7tbPmtnYa",
        "outputId": "f20dcd38-2faf-48c7-ea3d-c46f8632aca5"
      },
      "execution_count": null,
      "outputs": [
        {
          "output_type": "execute_result",
          "data": {
            "text/plain": [
              "array([[20,  5, 30],\n",
              "       [ 5, 45, 15]])"
            ]
          },
          "metadata": {},
          "execution_count": 27
        }
      ]
    }
  ]
}